{
 "cells": [
  {
   "cell_type": "markdown",
   "metadata": {},
   "source": [
    "### For Exact Search"
   ]
  },
  {
   "cell_type": "code",
   "execution_count": 1,
   "metadata": {},
   "outputs": [
    {
     "name": "stdout",
     "output_type": "stream",
     "text": [
      "<class 'numpy.ndarray'> float32 (3, 4)\n",
      "<class 'numpy.ndarray'> int64 (3, 4)\n",
      "N: 10000\n",
      "D: 128\n"
     ]
    }
   ],
   "source": [
    "import faiss\n",
    "import numpy as np\n",
    "\n",
    "D = 128\n",
    "N = 10000\n",
    "X = np.random.random((N, D)).astype(np.float32)  # inputs of faiss must be float32\n",
    "\n",
    "# Setup\n",
    "index = faiss.IndexFlatL2(D)\n",
    "index.add(X)\n",
    "\n",
    "# Search\n",
    "topk = 4\n",
    "dists, ids = index.search(x=X[:3], k=topk)  # Use the top three vectors for querying\n",
    "print(type(dists), dists.dtype, dists.shape)  # <class 'numpy.ndarray'> float32 (3, 4)\n",
    "print(type(ids), ids.dtype, ids.shape)  # <class 'numpy.ndarray'> int64 (3, 4)\n",
    "\n",
    "# Show params\n",
    "print(\"N:\", index.ntotal)\n",
    "print(\"D:\", index.d)"
   ]
  },
  {
   "cell_type": "code",
   "execution_count": null,
   "metadata": {},
   "outputs": [],
   "source": [
    "import faiss\n",
    "import numpy as np\n",
    "import os\n",
    "\n",
    "D = 128\n",
    "N = 10000\n",
    "X = np.random.random((N, D)).astype(np.float32)  # inputs of faiss must be float32\n",
    "\n",
    "# GPU config\n",
    "gpu_ids = \"0\"  # can be e.g. \"3,4\" for multiple GPUs \n",
    "os.environ['CUDA_VISIBLE_DEVICES'] = gpu_ids\n",
    "\n",
    "# Setup\n",
    "cpu_index = faiss.IndexFlatL2(D)\n",
    "gpu_index = faiss.index_cpu_to_all_gpus(cpu_index)\n",
    "gpu_index.add(X)\n",
    "\n",
    "# Search\n",
    "topk = 4\n",
    "dists, ids = gpu_index.search(x=X[:3], k=topk)"
   ]
  },
  {
   "cell_type": "markdown",
   "metadata": {},
   "source": [
    "### For Approximate Search"
   ]
  },
  {
   "cell_type": "code",
   "execution_count": 2,
   "metadata": {},
   "outputs": [],
   "source": [
    "import faiss\n",
    "import numpy as np\n",
    "\n",
    "D = 128\n",
    "N = 1000000\n",
    "Xt = np.random.random((10000, D)).astype(np.float32)  # 10000 vectors for training\n",
    "X = np.random.random((N, D)).astype(np.float32)\n",
    "\n",
    "# Param of PQ\n",
    "M = 16  # The number of sub-vector. Typically this is 8, 16, 32, etc.\n",
    "nbits = 8 # bits per sub-vector. This is typically 8, so that each sub-vec is encoded by 1 byte\n",
    "# Param of IVF\n",
    "nlist = 1000  # The number of cells (space partition). Typical value is sqrt(N)\n",
    "# Param of HNSW\n",
    "hnsw_m = 32  # The number of neighbors for HNSW. This is typically 32\n",
    "\n",
    "# Setup\n",
    "quantizer = faiss.IndexHNSWFlat(D, hnsw_m)\n",
    "index = faiss.IndexIVFPQ(quantizer, D, nlist, M, nbits)\n",
    "\n",
    "# Train\n",
    "index.train(Xt)\n",
    "\n",
    "# Add\n",
    "index.add(X)"
   ]
  },
  {
   "cell_type": "code",
   "execution_count": 3,
   "metadata": {},
   "outputs": [
    {
     "name": "stdout",
     "output_type": "stream",
     "text": [
      "D: 128\n",
      "N: 1000000\n",
      "M: 16\n",
      "nbits: 8\n",
      "nlist: 1000\n",
      "nprobe: 8\n"
     ]
    }
   ],
   "source": [
    "# Search\n",
    "index.nprobe = 8  # Runtime param. The number of cells that are visited for search.\n",
    "topk = 4\n",
    "dists, ids = index.search(x=X[:3], k=topk)\n",
    "\n",
    "# Show params\n",
    "print(\"D:\", index.d)\n",
    "print(\"N:\", index.ntotal) \n",
    "print(\"M:\", index.pq.M)\n",
    "print(\"nbits:\", index.pq.nbits)\n",
    "print(\"nlist:\", index.nlist)\n",
    "print(\"nprobe:\", index.nprobe)"
   ]
  },
  {
   "cell_type": "code",
   "execution_count": 4,
   "metadata": {},
   "outputs": [
    {
     "name": "stdout",
     "output_type": "stream",
     "text": [
      "998 µs ± 440 µs per loop (mean ± std. dev. of 7 runs, 100 loops each)\n"
     ]
    }
   ],
   "source": [
    "%%timeit\n",
    "dists, ids = index.search(x=X[:3], k=topk)"
   ]
  },
  {
   "cell_type": "code",
   "execution_count": 5,
   "metadata": {},
   "outputs": [],
   "source": [
    "faiss.write_index(index, \"superfastindex.bin\")"
   ]
  },
  {
   "cell_type": "code",
   "execution_count": 6,
   "metadata": {},
   "outputs": [],
   "source": [
    "index2 = faiss.read_index(\"faiss_50K_update3.index\") "
   ]
  },
  {
   "cell_type": "code",
   "execution_count": 5,
   "metadata": {},
   "outputs": [
    {
     "name": "stdout",
     "output_type": "stream",
     "text": [
      "[47306.57421875 26601.49804688 26521.53125    26477.765625\n",
      " 26449.046875   26431.0546875  26420.98632812 26413.05273438\n",
      " 26406.87304688 26401.67773438 26397.45898438 26394.38671875\n",
      " 26392.54296875 26390.69726562 26389.109375   26387.72265625\n",
      " 26386.38476562 26385.0546875  26384.19726562 26383.65429688]\n",
      "(10, 128)\n",
      "(10000, 1)\n",
      "D: 128\n",
      "K: 10\n",
      "niter: 20\n"
     ]
    }
   ],
   "source": [
    "import faiss\n",
    "import numpy as np\n",
    "\n",
    "D = 128\n",
    "N = 10000\n",
    "K = 10  # The number of clusters\n",
    "X = np.random.random((N, D)).astype(np.float32)\n",
    "\n",
    "# Setup\n",
    "kmeans = faiss.Kmeans(d=D, k=K, niter=20, verbose=True)\n",
    "# For GPU(s), run the following line. This will use all GPUs\n",
    "# kmeans = faiss.Kmeans(d=D, k=K, niter=20, verbose=True, gpu=True)\n",
    "\n",
    "# Run clustering\n",
    "kmeans.train(X)\n",
    "\n",
    "# Error for each iteration\n",
    "print(kmeans.obj)  # array with 20 elements\n",
    "\n",
    "# Centroids after clustering\n",
    "print(kmeans.centroids.shape)  # (10, 128)\n",
    "\n",
    "# The assignment for each vector.\n",
    "dists, ids = kmeans.index.search(X, 1)  # Need to run NN search again\n",
    "print(ids.shape)  # (10000, 1)\n",
    "\n",
    "# Params\n",
    "print(\"D:\", kmeans.d)\n",
    "print(\"K:\", kmeans.k)\n",
    "print(\"niter:\", kmeans.cp.niter)"
   ]
  },
  {
   "cell_type": "code",
   "execution_count": null,
   "metadata": {},
   "outputs": [],
   "source": []
  },
  {
   "cell_type": "markdown",
   "metadata": {},
   "source": [
    "## Set No of threads to use < Default is all threads >"
   ]
  },
  {
   "cell_type": "code",
   "execution_count": 8,
   "metadata": {},
   "outputs": [],
   "source": [
    "# faiss.omp_set_num_threads(1)"
   ]
  },
  {
   "cell_type": "markdown",
   "metadata": {},
   "source": [
    "## Hamming Distance"
   ]
  },
  {
   "cell_type": "code",
   "execution_count": 9,
   "metadata": {},
   "outputs": [
    {
     "name": "stdout",
     "output_type": "stream",
     "text": [
      "[[0 1 2]\n",
      " [1 2 1]]\n"
     ]
    }
   ],
   "source": [
    "def pairwise_hamming_dis(a, b):\n",
    "    \"\"\" compute the pairwise Hamming distances between two matrices \"\"\"\n",
    "    na, d = a.shape\n",
    "    nb, d2 = b.shape\n",
    "    assert d == d2\n",
    "\n",
    "    dis = np.empty((na, nb), dtype='int32')\n",
    "\n",
    "    faiss.hammings(\n",
    "        faiss.swig_ptr(a), faiss.swig_ptr(b),\n",
    "        na, nb, d,\n",
    "        faiss.swig_ptr(dis)\n",
    "    )\n",
    "    return dis\n",
    "\n",
    "# Each vector must be the form of \"uint8 * ncodes\",\n",
    "# where ncodes % 8 == 0\n",
    "xq = np.array([[0, 0, 0, 0, 0, 0, 0, 2],     # [0, 0, ..., 1, 0] <- 64 bits (ncodes=8)\n",
    "               [0, 0, 0, 0, 0, 0, 0, 3]],    # [0, 0, ..., 1, 1]\n",
    "               dtype=np.uint8)\n",
    "xb = np.array([[0, 0, 0, 0, 0, 0, 0, 2],     # [0, 0, ..., 1, 0]\n",
    "               [0, 0, 0, 0, 0, 0, 0, 0],     # [0, 0, ..., 0, 0]\n",
    "               [0, 0, 0, 0, 0, 0, 0, 1]],    # [0, 0, ..., 0, 1]\n",
    "               dtype=np.uint8)\n",
    "\n",
    "dis = pairwise_hamming_dis(xq, xb)\n",
    "print(dis)"
   ]
  },
  {
   "cell_type": "markdown",
   "metadata": {},
   "source": [
    "## Merge Results from Several Index"
   ]
  },
  {
   "cell_type": "code",
   "execution_count": 47,
   "metadata": {},
   "outputs": [
    {
     "name": "stdout",
     "output_type": "stream",
     "text": [
      "dists: [[13.268892  13.48959   14.0531435 14.133966  14.182329  14.212965\n",
      "  14.229703  14.2562    14.32106   14.3277445]]\n",
      "ids: [[4666 2341 5347 7811 5073 5141 7212 3491 7631 9764]]\n",
      "dists: [[13.268892  13.48959   14.0531435 14.133966  14.182329  14.212965\n",
      "  14.229703  14.2562    14.32106   14.3277445]]\n",
      "ids: [[4666 2341 5347 7811 5073 5141 7212 3491 7631 9764]]\n"
     ]
    }
   ],
   "source": [
    "import faiss\n",
    "import numpy as np\n",
    "\n",
    "D = 128\n",
    "N = 10000\n",
    "Nq = 1  # make it 3 for fun\n",
    "X = np.random.random((N, D)).astype(np.float32)\n",
    "Xq = np.random.random((Nq, D)).astype(np.float32)\n",
    "\n",
    "# Setup\n",
    "index = faiss.IndexFlatL2(D)\n",
    "index.add(X)\n",
    "\n",
    "# Search\n",
    "topk = 10\n",
    "dists, ids = index.search(x=Xq, k=topk)\n",
    "print(\"dists:\", dists)\n",
    "print(\"ids:\", ids)\n",
    "\n",
    "\n",
    "# Setup with two indices\n",
    "index1 = faiss.IndexFlatL2(D)\n",
    "index1.add(X[:2000])   # Store the first 2000 vectors\n",
    "index2 = faiss.IndexFlatL2(D)\n",
    "index2.add(X[2000:])   # Store the remaining\n",
    "\n",
    "# Search for both indices\n",
    "dists1, ids1 = index1.search(x=Xq, k=topk)\n",
    "dists2, ids2 = index2.search(x=Xq, k=topk)\n",
    "\n",
    "# Merge results\n",
    "result_heap = faiss.ResultHeap(nq=Nq, k=topk)\n",
    "result_heap.add_result(D=dists1, I=ids1)\n",
    "result_heap.add_result(D=dists2, I=ids2 + 2000)  # 2000 is an offset\n",
    "result_heap.finalize()\n",
    "print(\"dists:\", result_heap.D)\n",
    "print(\"ids:\", result_heap.I)\n",
    "\n",
    "assert np.array_equal(dists, result_heap.D)\n",
    "assert np.array_equal(ids, result_heap.I)"
   ]
  },
  {
   "cell_type": "code",
   "execution_count": 48,
   "metadata": {},
   "outputs": [
    {
     "data": {
      "text/plain": [
       "array([ True,  True,  True,  True,  True,  True,  True,  True,  True,\n",
       "        True])"
      ]
     },
     "execution_count": 48,
     "metadata": {},
     "output_type": "execute_result"
    }
   ],
   "source": [
    "np.in1d(ids,result_heap.I)"
   ]
  },
  {
   "cell_type": "code",
   "execution_count": 49,
   "metadata": {},
   "outputs": [],
   "source": [
    "dict1 = dict(zip(list(ids1[0]),list(dists1[0])))\n",
    "dict2 = dict(zip(list(ids2[0] + 2000),list(dists2[0])))"
   ]
  },
  {
   "cell_type": "code",
   "execution_count": 50,
   "metadata": {},
   "outputs": [
    {
     "data": {
      "text/plain": [
       "{913: 14.479799,\n",
       " 1410: 14.926694,\n",
       " 1058: 15.330411,\n",
       " 1011: 15.484995,\n",
       " 888: 15.526463,\n",
       " 231: 15.604352,\n",
       " 1113: 15.649547,\n",
       " 1360: 15.684461,\n",
       " 43: 15.744425,\n",
       " 1987: 15.778402}"
      ]
     },
     "execution_count": 50,
     "metadata": {},
     "output_type": "execute_result"
    }
   ],
   "source": [
    "dict1"
   ]
  },
  {
   "cell_type": "code",
   "execution_count": 51,
   "metadata": {},
   "outputs": [
    {
     "data": {
      "text/plain": [
       "{4666: 13.268892,\n",
       " 2341: 13.48959,\n",
       " 5347: 14.0531435,\n",
       " 7811: 14.133966,\n",
       " 5073: 14.182329,\n",
       " 5141: 14.212965,\n",
       " 7212: 14.229703,\n",
       " 3491: 14.2562,\n",
       " 7631: 14.32106,\n",
       " 9764: 14.3277445}"
      ]
     },
     "execution_count": 51,
     "metadata": {},
     "output_type": "execute_result"
    }
   ],
   "source": [
    "dict2"
   ]
  },
  {
   "cell_type": "code",
   "execution_count": 52,
   "metadata": {},
   "outputs": [],
   "source": [
    "dict1.update(dict2)"
   ]
  },
  {
   "cell_type": "code",
   "execution_count": 53,
   "metadata": {},
   "outputs": [
    {
     "data": {
      "text/plain": [
       "{913: 14.479799,\n",
       " 1410: 14.926694,\n",
       " 1058: 15.330411,\n",
       " 1011: 15.484995,\n",
       " 888: 15.526463,\n",
       " 231: 15.604352,\n",
       " 1113: 15.649547,\n",
       " 1360: 15.684461,\n",
       " 43: 15.744425,\n",
       " 1987: 15.778402,\n",
       " 4666: 13.268892,\n",
       " 2341: 13.48959,\n",
       " 5347: 14.0531435,\n",
       " 7811: 14.133966,\n",
       " 5073: 14.182329,\n",
       " 5141: 14.212965,\n",
       " 7212: 14.229703,\n",
       " 3491: 14.2562,\n",
       " 7631: 14.32106,\n",
       " 9764: 14.3277445}"
      ]
     },
     "execution_count": 53,
     "metadata": {},
     "output_type": "execute_result"
    }
   ],
   "source": [
    "dict1"
   ]
  },
  {
   "cell_type": "code",
   "execution_count": 54,
   "metadata": {},
   "outputs": [],
   "source": [
    "my_results = {k: v for k, v in sorted(dict1.items(), key=lambda item: item[1])}"
   ]
  },
  {
   "cell_type": "code",
   "execution_count": 55,
   "metadata": {},
   "outputs": [
    {
     "data": {
      "text/plain": [
       "{4666: 13.268892,\n",
       " 2341: 13.48959,\n",
       " 5347: 14.0531435,\n",
       " 7811: 14.133966,\n",
       " 5073: 14.182329,\n",
       " 5141: 14.212965,\n",
       " 7212: 14.229703,\n",
       " 3491: 14.2562,\n",
       " 7631: 14.32106,\n",
       " 9764: 14.3277445,\n",
       " 913: 14.479799,\n",
       " 1410: 14.926694,\n",
       " 1058: 15.330411,\n",
       " 1011: 15.484995,\n",
       " 888: 15.526463,\n",
       " 231: 15.604352,\n",
       " 1113: 15.649547,\n",
       " 1360: 15.684461,\n",
       " 43: 15.744425,\n",
       " 1987: 15.778402}"
      ]
     },
     "execution_count": 55,
     "metadata": {},
     "output_type": "execute_result"
    }
   ],
   "source": [
    "my_results"
   ]
  },
  {
   "cell_type": "code",
   "execution_count": 56,
   "metadata": {},
   "outputs": [],
   "source": [
    "myresults_index = np.array(list(my_results.keys())[:10])"
   ]
  },
  {
   "cell_type": "code",
   "execution_count": 57,
   "metadata": {},
   "outputs": [
    {
     "data": {
      "text/plain": [
       "array([4666, 2341, 5347, 7811, 5073, 5141, 7212, 3491, 7631, 9764],\n",
       "      dtype=int64)"
      ]
     },
     "execution_count": 57,
     "metadata": {},
     "output_type": "execute_result"
    }
   ],
   "source": [
    "myresults_index"
   ]
  },
  {
   "cell_type": "code",
   "execution_count": 58,
   "metadata": {},
   "outputs": [
    {
     "data": {
      "text/plain": [
       "array([ True,  True,  True,  True,  True,  True,  True,  True,  True,\n",
       "        True])"
      ]
     },
     "execution_count": 58,
     "metadata": {},
     "output_type": "execute_result"
    }
   ],
   "source": [
    "## My way\n",
    "np.in1d(ids[0],myresults_index)"
   ]
  },
  {
   "cell_type": "code",
   "execution_count": 59,
   "metadata": {},
   "outputs": [
    {
     "data": {
      "text/plain": [
       "array([4666, 2341, 5347, 7811, 5073, 5141, 7212, 3491, 7631, 9764],\n",
       "      dtype=int64)"
      ]
     },
     "execution_count": 59,
     "metadata": {},
     "output_type": "execute_result"
    }
   ],
   "source": [
    "myresults_index"
   ]
  },
  {
   "cell_type": "code",
   "execution_count": 60,
   "metadata": {},
   "outputs": [
    {
     "data": {
      "text/plain": [
       "array([[4666, 2341, 5347, 7811, 5073, 5141, 7212, 3491, 7631, 9764]],\n",
       "      dtype=int64)"
      ]
     },
     "execution_count": 60,
     "metadata": {},
     "output_type": "execute_result"
    }
   ],
   "source": [
    "result_heap.I"
   ]
  },
  {
   "cell_type": "code",
   "execution_count": null,
   "metadata": {},
   "outputs": [],
   "source": []
  }
 ],
 "metadata": {
  "interpreter": {
   "hash": "8c2994dfa27cde6f11d3fb9c4cbbfa6907861e8070abf70c26bea5c57a09831e"
  },
  "kernelspec": {
   "display_name": "Python 3.9.7 ('base')",
   "language": "python",
   "name": "python3"
  },
  "language_info": {
   "codemirror_mode": {
    "name": "ipython",
    "version": 3
   },
   "file_extension": ".py",
   "mimetype": "text/x-python",
   "name": "python",
   "nbconvert_exporter": "python",
   "pygments_lexer": "ipython3",
   "version": "3.9.7"
  },
  "orig_nbformat": 4
 },
 "nbformat": 4,
 "nbformat_minor": 2
}
