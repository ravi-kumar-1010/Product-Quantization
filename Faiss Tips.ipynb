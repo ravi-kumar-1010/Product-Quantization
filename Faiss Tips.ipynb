{
 "cells": [
  {
   "cell_type": "markdown",
   "metadata": {},
   "source": [
    "### For Exact Search"
   ]
  },
  {
   "cell_type": "code",
   "execution_count": 1,
   "metadata": {},
   "outputs": [
    {
     "name": "stdout",
     "output_type": "stream",
     "text": [
      "<class 'numpy.ndarray'> float32 (3, 4)\n",
      "<class 'numpy.ndarray'> int64 (3, 4)\n",
      "N: 10000\n",
      "D: 128\n"
     ]
    }
   ],
   "source": [
    "import faiss\n",
    "import numpy as np\n",
    "\n",
    "D = 128\n",
    "N = 10000\n",
    "X = np.random.random((N, D)).astype(np.float32)  # inputs of faiss must be float32\n",
    "\n",
    "# Setup\n",
    "index = faiss.IndexFlatL2(D)\n",
    "index.add(X)\n",
    "\n",
    "# Search\n",
    "topk = 4\n",
    "dists, ids = index.search(x=X[:3], k=topk)  # Use the top three vectors for querying\n",
    "print(type(dists), dists.dtype, dists.shape)  # <class 'numpy.ndarray'> float32 (3, 4)\n",
    "print(type(ids), ids.dtype, ids.shape)  # <class 'numpy.ndarray'> int64 (3, 4)\n",
    "\n",
    "# Show params\n",
    "print(\"N:\", index.ntotal)\n",
    "print(\"D:\", index.d)"
   ]
  },
  {
   "cell_type": "code",
   "execution_count": null,
   "metadata": {},
   "outputs": [],
   "source": [
    "import faiss\n",
    "import numpy as np\n",
    "import os\n",
    "\n",
    "D = 128\n",
    "N = 10000\n",
    "X = np.random.random((N, D)).astype(np.float32)  # inputs of faiss must be float32\n",
    "\n",
    "# GPU config\n",
    "gpu_ids = \"0\"  # can be e.g. \"3,4\" for multiple GPUs \n",
    "os.environ['CUDA_VISIBLE_DEVICES'] = gpu_ids\n",
    "\n",
    "# Setup\n",
    "cpu_index = faiss.IndexFlatL2(D)\n",
    "gpu_index = faiss.index_cpu_to_all_gpus(cpu_index)\n",
    "gpu_index.add(X)\n",
    "\n",
    "# Search\n",
    "topk = 4\n",
    "dists, ids = gpu_index.search(x=X[:3], k=topk)"
   ]
  },
  {
   "cell_type": "markdown",
   "metadata": {},
   "source": [
    "### For Approximate Search"
   ]
  },
  {
   "cell_type": "code",
   "execution_count": 2,
   "metadata": {},
   "outputs": [],
   "source": [
    "import faiss\n",
    "import numpy as np\n",
    "\n",
    "D = 128\n",
    "N = 1000000\n",
    "Xt = np.random.random((10000, D)).astype(np.float32)  # 10000 vectors for training\n",
    "X = np.random.random((N, D)).astype(np.float32)\n",
    "\n",
    "# Param of PQ\n",
    "M = 16  # The number of sub-vector. Typically this is 8, 16, 32, etc.\n",
    "nbits = 8 # bits per sub-vector. This is typically 8, so that each sub-vec is encoded by 1 byte\n",
    "# Param of IVF\n",
    "nlist = 1000  # The number of cells (space partition). Typical value is sqrt(N)\n",
    "# Param of HNSW\n",
    "hnsw_m = 32  # The number of neighbors for HNSW. This is typically 32\n",
    "\n",
    "# Setup\n",
    "quantizer = faiss.IndexHNSWFlat(D, hnsw_m)\n",
    "index = faiss.IndexIVFPQ(quantizer, D, nlist, M, nbits)\n",
    "\n",
    "# Train\n",
    "index.train(Xt)\n",
    "\n",
    "# Add\n",
    "index.add(X)"
   ]
  },
  {
   "cell_type": "code",
   "execution_count": 3,
   "metadata": {},
   "outputs": [
    {
     "name": "stdout",
     "output_type": "stream",
     "text": [
      "D: 128\n",
      "N: 1000000\n",
      "M: 16\n",
      "nbits: 8\n",
      "nlist: 1000\n",
      "nprobe: 8\n"
     ]
    }
   ],
   "source": [
    "# Search\n",
    "index.nprobe = 8  # Runtime param. The number of cells that are visited for search.\n",
    "topk = 4\n",
    "dists, ids = index.search(x=X[:3], k=topk)\n",
    "\n",
    "# Show params\n",
    "print(\"D:\", index.d)\n",
    "print(\"N:\", index.ntotal) \n",
    "print(\"M:\", index.pq.M)\n",
    "print(\"nbits:\", index.pq.nbits)\n",
    "print(\"nlist:\", index.nlist)\n",
    "print(\"nprobe:\", index.nprobe)"
   ]
  },
  {
   "cell_type": "code",
   "execution_count": 4,
   "metadata": {},
   "outputs": [
    {
     "name": "stdout",
     "output_type": "stream",
     "text": [
      "998 µs ± 440 µs per loop (mean ± std. dev. of 7 runs, 100 loops each)\n"
     ]
    }
   ],
   "source": [
    "%%timeit\n",
    "dists, ids = index.search(x=X[:3], k=topk)"
   ]
  },
  {
   "cell_type": "code",
   "execution_count": 5,
   "metadata": {},
   "outputs": [],
   "source": [
    "faiss.write_index(index, \"superfastindex.bin\")"
   ]
  },
  {
   "cell_type": "code",
   "execution_count": null,
   "metadata": {},
   "outputs": [],
   "source": []
  }
 ],
 "metadata": {
  "interpreter": {
   "hash": "8c2994dfa27cde6f11d3fb9c4cbbfa6907861e8070abf70c26bea5c57a09831e"
  },
  "kernelspec": {
   "display_name": "Python 3.9.7 ('base')",
   "language": "python",
   "name": "python3"
  },
  "language_info": {
   "codemirror_mode": {
    "name": "ipython",
    "version": 3
   },
   "file_extension": ".py",
   "mimetype": "text/x-python",
   "name": "python",
   "nbconvert_exporter": "python",
   "pygments_lexer": "ipython3",
   "version": "3.9.7"
  },
  "orig_nbformat": 4
 },
 "nbformat": 4,
 "nbformat_minor": 2
}
